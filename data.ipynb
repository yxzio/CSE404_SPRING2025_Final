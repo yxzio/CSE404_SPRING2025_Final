{
 "cells": [
  {
   "cell_type": "code",
   "execution_count": null,
   "id": "0f2beafa",
   "metadata": {},
   "outputs": [
    {
     "name": "stdout",
     "output_type": "stream",
     "text": [
      "Processing 2018\\02-14-2018.csv ...\n",
      "Processing 2018\\02-15-2018.csv ...\n",
      "Processing 2018\\02-23-2018.csv ...\n",
      "Processing 2018\\02-28-2018.csv ...\n"
     ]
    },
    {
     "name": "stderr",
     "output_type": "stream",
     "text": [
      "C:\\Users\\samsung\\AppData\\Local\\Temp\\ipykernel_16160\\2517928947.py:27: DtypeWarning: Columns (0,1,3,4,5,6,7,8,9,10,11,12,13,14,15,16,17,18,19,20,21,22,23,24,25,26,27,28,29,30,31,32,33,34,35,36,37,38,39,40,41,42,43,44,45,46,47,48,49,50,51,52,53,54,55,56,57,58,59,60,61,62,63,64,65,66,67,68,69,70,71,72,73,74,75,76,77,78) have mixed types.Specify dtype option on import or set low_memory=False.\n",
      "  df = sample_large_csv(file_path, sample_frac)\n"
     ]
    }
   ],
   "source": [
    "# This file handles the data. \n",
    "# The datasets are not included in the submission as they are too huge. Refer to the references if you need to retrive original datasets.\n",
    "import os\n",
    "import pandas as pd\n",
    "import random\n",
    "\n",
    "def sample_large_csv(file_path, sample_frac=0.3):\n",
    "    with open(file_path, 'r', encoding='utf-8') as f:\n",
    "        total_lines = sum(1 for line in f) - 1  \n",
    "\n",
    "\n",
    "    sample_size = int(total_lines * sample_frac)\n",
    "    sampled_indices = sorted(random.sample(range(1, total_lines + 1), sample_size))  \n",
    "\n",
    "\n",
    "    df_sample = pd.read_csv(\n",
    "        file_path,\n",
    "        skiprows=lambda i: i != 0 and i not in sampled_indices \n",
    "    )\n",
    "    return df_sample\n",
    "\n",
    "def process_folder(folder_path, sample_frac=0.3):\n",
    "    all_samples = []\n",
    "    for filename in os.listdir(folder_path):\n",
    "        if filename.endswith('.csv'):\n",
    "            file_path = os.path.join(folder_path, filename)\n",
    "            print(f'Processing {file_path} ...')\n",
    "            df = sample_large_csv(file_path, sample_frac)\n",
    "            all_samples.append(df)\n",
    "\n",
    "    result = pd.concat(all_samples, ignore_index=True)\n",
    "    return result\n",
    "\n",
    "\n",
    "folder = '2018'\n",
    "combined_df = process_folder(folder, sample_frac=0.08) # 2018 0.3/4 = 0.08\n",
    "\n",
    "combined_df.to_csv('2018.csv', index=False)"
   ]
  },
  {
   "cell_type": "code",
   "execution_count": 2,
   "id": "5ec7398e",
   "metadata": {},
   "outputs": [
    {
     "name": "stderr",
     "output_type": "stream",
     "text": [
      "C:\\Users\\samsung\\AppData\\Roaming\\Python\\Python39\\site-packages\\IPython\\core\\interactiveshell.py:3526: DtypeWarning: Columns (0,1,3,4,5,6,7,8,9,10,11,12,13,14,15,16,17,18,19,20,21,22,23,24,25,26,27,28,29,30,31,32,33,34,35,36,37,38,39,40,41,42,43,44,45,46,47,48,49,50,51,52,53,54,55,56,57,58,59,60,61,62,63,64,65,66,67,68,69,70,71,72,73,74,75,76,77,78) have mixed types.Specify dtype option on import or set low_memory=False.\n",
      "  exec(code_obj, self.user_global_ns, self.user_ns)\n"
     ]
    }
   ],
   "source": [
    "df_2017 = pd.read_csv(\"2017.csv\")\n",
    "df_2018 = pd.read_csv(\"2018.csv\")\n",
    "df_2019 = pd.read_csv(\"2019.csv\")"
   ]
  },
  {
   "cell_type": "code",
   "execution_count": null,
   "id": "9d7392c5",
   "metadata": {},
   "outputs": [
    {
     "name": "stderr",
     "output_type": "stream",
     "text": [
      "C:\\Users\\samsung\\AppData\\Local\\Temp\\ipykernel_16160\\3115954063.py:89: DtypeWarning: Columns (0,1,3,4,5,6,7,8,9,10,11,12,13,14,15,16,17,18,19,20,21,22,23,24,25,26,27,28,29,30,31,32,33,34,35,36,37,38,39,40,41,42,43,44,45,46,47,48,49,50,51,52,53,54,55,56,57,58,59,60,61,62,63,64,65,66,67,68,69,70,71,72,73,74,75,76,77,78) have mixed types.Specify dtype option on import or set low_memory=False.\n",
      "  df18 = load_and_align(\"2018.csv\")\n"
     ]
    },
    {
     "name": "stdout",
     "output_type": "stream",
     "text": [
      "79 80 80\n",
      "{'pshFlagCount', 'subflowFwdBytes', 'fwdHeaderLength1', 'minPacketLength', 'activeMin', 'avgPacketSize', 'idleMean', 'bwdHeaderLength', 'packetLengthVariance', 'urgFlagCount', 'totlenBwdPackets', 'idleStd', 'eceFlagCount', 'totalFwdPackets', 'fwdUrgFlags', 'activeStd', 'flowIatMean', 'ackFlagCount', 'packetLengthMean', 'min_seg_size_forward', 'fwdPacketsS', 'subflowBwdBytes', 'totalLengthFwdPackets', 'bwdPacketsBAvg', 'totalLengthBwdPackets', 'fwdIatTotal', 'fwdPacketLengthMax', 'fwdHeaderLength', 'idleMax', 'fwdPacketsBAvg', 'totalLengthOfBwdPackets', 'fwdIatMax', 'init_win_bytes_forward', 'bwdPacketLengthStd', 'bwdPacketLengthMax', 'flowIatMax', 'fwdBulkRateAvg', 'bwdBulkRateAvg', 'flowBytesS', 'maxPacketLength', 'fwdPacketLengthMin', 'bwdPshFlags', 'fwdIatStd', 'bwdBytesBAvg', 'fwdIatMean', 'totalLengthOfFwdPackets', 'bwdIatTotal', 'fwdPacketLengthMean', 'timeStamp', 'unnamed:0', 'flowDuration', 'subflowBwdPackets', 'fwdSegmentSizeAvg', 'fwdIatMin', 'flowIatMin', 'packetLengthStd', 'bwdPacketLengthMean', 'bwdPacketsS', 'rstFlagCount', 'init_win_bytes_backward', 'bwdPacketLengthMin', 'totalBwdPackets', 'fwdPshFlags', 'fwdPacketLengthStd', 'bwdSegmentSizeAvg', 'bwdIatMean', 'activeMax', 'synFlagCount', 'cweFlagCount', 'act_data_pkt_fwd', 'bwdUrgFlags', 'activeMean', 'finFlagCount', 'idleMin', 'subflowFwdPackets', 'averagePacketSize', 'fwdBytesBAvg', 'flowIatStd', 'label', 'bwdIatStd', 'downUpRatio', 'bwdIatMax', 'bwdIatMin', 'packetSizeAvg', 'totlenFwdPackets', 'flowPacketsS'}\n"
     ]
    }
   ],
   "source": [
    "import re, pandas as pd\n",
    "\n",
    "# Clean function, to resovle ambiguis context and make them same descriptions\n",
    "\n",
    "ABBR = {\n",
    "    r\"\\bpkt\\b\": \"packet\",\n",
    "    r\"\\bpkt[s]?\\b\": \"packets\",\n",
    "    r\"\\bpkts\\b\": \"packets\",\n",
    "    r\"\\blen\\b\": \"length\",\n",
    "    r\"\\bbyt[s]?\\b\": \"bytes\",\n",
    "    r\"\\bseg\\b\": \"segment\",\n",
    "    r\"\\bwin\\b\": \"window\",\n",
    "    r\"\\bavg\\b\": \"avg\",\n",
    "    r\"\\bvar\\b\": \"variance\",\n",
    "    r\"\\bstd\\b\": \"std\",\n",
    "    r\"\\bmin\\b\": \"min\",\n",
    "    r\"\\bmax\\b\": \"max\",\n",
    "    r\"\\bblk\\b\": \"bulk\",\n",
    "    r\"\\bcnt\\b\": \"count\",\n",
    "    r\"\\bact\\b\": \"act\",\n",
    "    r\"\\btot\\b\": \"total\",\n",
    "    r\"\\bs/s\\b\": \"s\",\n",
    "}\n",
    "\n",
    "def clean(col):\n",
    "    col = col.strip() \n",
    "    col = re.sub(r\"[./]\", \" \", col)\n",
    "    col = re.sub(r\"\\s+\", \" \", col) \n",
    "    col = col.lower()\n",
    "    for pat, rep in ABBR.items():\n",
    "        col = re.sub(pat, rep, col)\n",
    "    col = col.split()\n",
    "    return col[0] + \"\".join(w.capitalize() for w in col[1:])\n",
    "\n",
    "\n",
    "MANUAL = {\n",
    "    \"finFlagCnt\":        \"finFlagCount\",\n",
    "    \"synFlagCnt\":        \"synFlagCount\",\n",
    "    \"pshFlagCnt\":        \"pshFlagCount\",\n",
    "    \"rstFlagCnt\":        \"rstFlagCount\",\n",
    "    \"ackFlagCnt\":        \"ackFlagCount\",\n",
    "    \"urgFlagCnt\":        \"urgFlagCount\",\n",
    "    \"pktLenMean\":        \"packetLengthMean\",\n",
    "    \"pktLenStd\":         \"packetLengthStd\",\n",
    "    \"pktLenVar\":         \"packetLengthVariance\",\n",
    "    \"pktLenMin\":         \"packetLengthMin\",\n",
    "    \"pktLenMax\":         \"packetLengthMax\",\n",
    "    \"pktSizeAvg\":        \"avgPacketSize\",\n",
    "    \"totlenFwdPkts\":     \"totalLengthFwdPackets\",\n",
    "    \"totlenBwdPkts\":     \"totalLengthBwdPackets\",\n",
    "    \"bwdPacketsLengthTotal\": \"totalLengthBwdPackets\",\n",
    "    \"fwdPacketsLengthTotal\": \"totalLengthFwdPackets\",\n",
    "    \"flowBytsS\":         \"flowBytesPerSecond\",\n",
    "    \"flowPktsS\":         \"flowPacketsPerSecond\",\n",
    "    \"initFwdWinByts\":    \"initWinBytesForward\",\n",
    "    \"initBwdWinByts\":    \"initWinBytesBackward\",\n",
    "    \"initBwdWinBytes\":   \"initWinBytesBackward\",\n",
    "    \"fwdActDataPkts\":    \"fwdActDataPackets\",\n",
    "    \"fwdSegSizeAvg\":     \"avgFwdSegmentSize\",\n",
    "    \"bwdSegSizeAvg\":     \"avgBwdSegmentSize\",\n",
    "    \"fwdSegSizeMin\":     \"minSegSizeForward\",\n",
    "    \"dstPort\":           \"destinationPort\",\n",
    "    \"class\":             \"label\",\n",
    "    \"timestamp\":         \"timeStamp\",\n",
    "    \"unnamed0\":          None,\n",
    "}\n",
    "\n",
    "def harmonize(cols):\n",
    "    cols = [clean(c) for c in cols]\n",
    "    return [MANUAL.get(c, c) for c in cols if MANUAL.get(c, c) is not None]\n",
    "\n",
    "\n",
    "def load_and_align(path):\n",
    "    df = pd.read_csv(path)\n",
    "    new_cols = harmonize(df.columns)\n",
    "    df.columns = new_cols\n",
    "    return df\n",
    "\n",
    "df17 = load_and_align(\"2017.csv\")\n",
    "df18 = load_and_align(\"2018.csv\")\n",
    "df19 = load_and_align(\"2019.csv\")\n",
    "\n",
    "\n",
    "print(len(df17.columns), len(df18.columns), len(df19.columns))\n",
    "print(set(df17.columns) ^ set(df18.columns) ^ set(df19.columns)) \n"
   ]
  },
  {
   "cell_type": "code",
   "execution_count": null,
   "id": "8ca80082",
   "metadata": {},
   "outputs": [
    {
     "name": "stdout",
     "output_type": "stream",
     "text": [
      "CIC-2017 Columns:\n",
      "{' act_data_pkt_fwd', ' Packet Length Mean', ' Fwd Avg Bulk Rate', ' Fwd Avg Packets/Bulk', ' Fwd Packet Length Max', ' Average Packet Size', ' Total Length of Bwd Packets', ' Bwd IAT Min', ' Bwd Packet Length Mean', ' min_seg_size_forward', ' Total Fwd Packets', ' Subflow Fwd Bytes', ' Packet Length Variance', ' Bwd Packet Length Min', 'Idle Mean', ' Destination Port', ' CWE Flag Count', ' Avg Fwd Segment Size', ' Bwd URG Flags', 'FIN Flag Count', 'Total Length of Fwd Packets', ' Fwd URG Flags', ' Fwd IAT Max', 'Fwd PSH Flags', ' PSH Flag Count', ' Subflow Bwd Bytes', 'Fwd Avg Bytes/Bulk', ' ECE Flag Count', ' Idle Std', ' Fwd IAT Min', 'Active Mean', ' Fwd Header Length.1', ' Fwd Packet Length Min', ' Fwd Packet Length Mean', ' Flow IAT Max', ' Min Packet Length', ' Max Packet Length', ' Fwd Header Length', ' Bwd Packet Length Std', ' Flow IAT Min', ' Total Backward Packets', ' Flow IAT Mean', ' Bwd Header Length', ' Bwd Avg Packets/Bulk', ' Avg Bwd Segment Size', ' ACK Flag Count', ' Idle Max', ' Bwd IAT Max', 'Flow Bytes/s', ' Flow Packets/s', 'Bwd Avg Bulk Rate', 'Init_Win_bytes_forward', ' Active Min', ' URG Flag Count', 'Bwd Packet Length Max', ' Bwd Packets/s', ' Flow Duration', 'Bwd IAT Total', ' RST Flag Count', ' Label', 'Fwd IAT Total', ' Active Std', ' Idle Min', ' Subflow Bwd Packets', ' SYN Flag Count', ' Active Max', 'Fwd Packets/s', ' Fwd IAT Mean', ' Bwd IAT Mean', ' Down/Up Ratio', ' Bwd Avg Bytes/Bulk', 'Subflow Fwd Packets', ' Bwd IAT Std', ' Fwd IAT Std', ' Flow IAT Std', ' Packet Length Std', ' Fwd Packet Length Std', ' Init_Win_bytes_backward', ' Bwd PSH Flags'}\n",
      "CIC-2018 Columns:\n",
      "{'Active Max', 'Bwd IAT Std', 'Pkt Len Var', 'Fwd Pkt Len Std', 'SYN Flag Cnt', 'Bwd PSH Flags', 'Bwd Pkt Len Std', 'Pkt Size Avg', 'Fwd Pkt Len Max', 'Flow Duration', 'Idle Mean', 'Pkt Len Std', 'CWE Flag Count', 'Bwd Pkts/b Avg', 'RST Flag Cnt', 'Bwd IAT Max', 'ACK Flag Cnt', 'Fwd Pkts/s', 'Bwd Header Len', 'Bwd IAT Mean', 'Bwd Byts/b Avg', 'PSH Flag Cnt', 'URG Flag Cnt', 'Fwd IAT Tot', 'Fwd IAT Mean', 'Subflow Bwd Pkts', 'Fwd IAT Std', 'Fwd PSH Flags', 'Fwd Seg Size Avg', 'Fwd Header Len', 'Bwd Pkts/s', 'Fwd IAT Min', 'Idle Std', 'Fwd IAT Max', 'Bwd IAT Min', 'Fwd Blk Rate Avg', 'Dst Port', 'Active Mean', 'FIN Flag Cnt', 'ECE Flag Cnt', 'Bwd Pkt Len Mean', 'Pkt Len Max', 'Down/Up Ratio', 'Bwd Blk Rate Avg', 'Bwd URG Flags', 'Fwd Pkt Len Min', 'Init Fwd Win Byts', 'Flow IAT Min', 'Init Bwd Win Byts', 'Flow Pkts/s', 'Fwd Seg Size Min', 'Flow IAT Max', 'Bwd IAT Tot', 'Bwd Pkt Len Min', 'Bwd Seg Size Avg', 'Flow Byts/s', 'Idle Min', 'Subflow Fwd Byts', 'TotLen Bwd Pkts', 'Bwd Pkt Len Max', 'Flow IAT Mean', 'Flow IAT Std', 'Timestamp', 'Subflow Fwd Pkts', 'Protocol', 'Fwd Act Data Pkts', 'Fwd Byts/b Avg', 'Fwd URG Flags', 'Active Min', 'Idle Max', 'Pkt Len Mean', 'Tot Fwd Pkts', 'TotLen Fwd Pkts', 'Fwd Pkt Len Mean', 'Active Std', 'Label', 'Pkt Len Min', 'Subflow Bwd Byts', 'Fwd Pkts/b Avg', 'Tot Bwd Pkts'}\n",
      "CIC-2019 Columns:\n",
      "{'Active Max', 'Bwd Avg Bytes/Bulk', 'Bwd IAT Std', 'Flow Packets/s', 'Packet Length Std', 'Avg Bwd Segment Size', 'Bwd Packet Length Mean', 'Fwd Packet Length Min', 'Bwd PSH Flags', 'Bwd Packet Length Min', 'Flow Duration', 'Avg Fwd Segment Size', 'Idle Mean', 'Total Backward Packets', 'CWE Flag Count', 'SYN Flag Count', 'Bwd IAT Max', 'Subflow Bwd Packets', 'Bwd IAT Mean', 'Total Fwd Packets', 'FIN Flag Count', 'Bwd Packets/s', 'Init Bwd Win Bytes', 'Fwd IAT Mean', 'Fwd IAT Std', 'Fwd Avg Packets/Bulk', 'Fwd PSH Flags', 'Subflow Fwd Bytes', 'Fwd IAT Min', 'Fwd Avg Bytes/Bulk', 'Init Fwd Win Bytes', 'Idle Std', 'Fwd IAT Max', 'Bwd IAT Min', 'RST Flag Count', 'Packet Length Variance', 'Active Mean', 'Unnamed: 0', 'Down/Up Ratio', 'ECE Flag Count', 'Bwd URG Flags', 'Bwd Header Length', 'Bwd Packets Length Total', 'Fwd Act Data Packets', 'Flow IAT Min', 'Fwd Seg Size Min', 'Flow IAT Max', 'URG Flag Count', 'Idle Min', 'Fwd Header Length', 'Fwd Packets Length Total', 'Subflow Bwd Bytes', 'Fwd Packet Length Max', 'Packet Length Min', 'Flow Bytes/s', 'Fwd Packet Length Mean', 'Fwd Packet Length Std', 'Flow IAT Mean', 'Bwd Avg Bulk Rate', 'ACK Flag Count', 'Packet Length Mean', 'Flow IAT Std', 'Bwd Packet Length Max', 'Bwd IAT Total', 'Bwd Avg Packets/Bulk', 'Fwd IAT Total', 'Class', 'Protocol', 'Packet Length Max', 'Fwd Packets/s', 'Fwd URG Flags', 'Active Min', 'Idle Max', 'Fwd Avg Bulk Rate', 'PSH Flag Count', 'Bwd Packet Length Std', 'Subflow Fwd Packets', 'Active Std', 'Label', 'Avg Packet Size'}\n",
      "common:\n",
      "Index(['flowDuration', 'totalFwdPackets', 'fwdPacketLengthMax',\n",
      "       'fwdPacketLengthMin', 'fwdPacketLengthMean', 'fwdPacketLengthStd',\n",
      "       'bwdPacketLengthMax', 'bwdPacketLengthMin', 'bwdPacketLengthMean',\n",
      "       'bwdPacketLengthStd', 'flowBytesS', 'flowPacketsS', 'flowIatMean',\n",
      "       'flowIatStd', 'flowIatMax', 'flowIatMin', 'fwdIatTotal', 'fwdIatMean',\n",
      "       'fwdIatStd', 'fwdIatMax', 'fwdIatMin', 'bwdIatTotal', 'bwdIatMean',\n",
      "       'bwdIatStd', 'bwdIatMax', 'bwdIatMin', 'fwdPshFlags', 'bwdPshFlags',\n",
      "       'fwdUrgFlags', 'bwdUrgFlags', 'fwdHeaderLength', 'bwdHeaderLength',\n",
      "       'fwdPacketsS', 'bwdPacketsS', 'packetLengthMean', 'packetLengthStd',\n",
      "       'packetLengthVariance', 'finFlagCount', 'synFlagCount', 'rstFlagCount',\n",
      "       'pshFlagCount', 'ackFlagCount', 'urgFlagCount', 'cweFlagCount',\n",
      "       'eceFlagCount', 'downUpRatio', 'subflowFwdPackets', 'subflowFwdBytes',\n",
      "       'subflowBwdPackets', 'subflowBwdBytes', 'activeMean', 'activeStd',\n",
      "       'activeMax', 'activeMin', 'idleMean', 'idleStd', 'idleMax', 'idleMin',\n",
      "       'label'],\n",
      "      dtype='object')\n"
     ]
    },
    {
     "name": "stderr",
     "output_type": "stream",
     "text": [
      "C:\\Users\\samsung\\AppData\\Local\\Temp\\ipykernel_16160\\2663928086.py:11: FutureWarning: Index.__and__ operating as a set operation is deprecated, in the future this will be a logical operation matching Series.__and__.  Use index.intersection(other) instead\n",
      "  print(df17.columns & df18.columns & df19.columns)\n"
     ]
    }
   ],
   "source": [
    "print(\"CIC-2017 Columns:\")\n",
    "print(set(df_2017.columns))\n",
    "\n",
    "print(\"CIC-2018 Columns:\")\n",
    "print(set(df_2018.columns))\n",
    "\n",
    "print(\"CIC-2019 Columns:\")\n",
    "print(set(df_2019.columns))\n",
    "\n",
    "print(\"common:\")\n",
    "print(df17.columns & df18.columns & df19.columns)"
   ]
  },
  {
   "cell_type": "code",
   "execution_count": null,
   "id": "5a586b0d",
   "metadata": {},
   "outputs": [],
   "source": [
    "common_cols = sorted(list(set(df17.columns) & set(df18.columns) & set(df19.columns)))\n",
    "\n",
    "\n",
    "df17 = df17[common_cols]\n",
    "df18 = df18[common_cols]\n",
    "df19 = df19[common_cols]"
   ]
  },
  {
   "cell_type": "code",
   "execution_count": 13,
   "id": "c1c802e2",
   "metadata": {},
   "outputs": [],
   "source": [
    "df17.to_csv(\"c2017.csv\", index=False)\n",
    "df18.to_csv(\"c2018.csv\", index=False)\n",
    "df19.to_csv(\"c2019.csv\", index=False)"
   ]
  },
  {
   "cell_type": "code",
   "execution_count": 24,
   "id": "6dcfe25c",
   "metadata": {},
   "outputs": [
    {
     "name": "stderr",
     "output_type": "stream",
     "text": [
      "C:\\Users\\samsung\\AppData\\Roaming\\Python\\Python39\\site-packages\\IPython\\core\\interactiveshell.py:3526: DtypeWarning: Columns (0,1,2,3,4,5,6,7,8,9,10,11,12,13,14,15,16,17,18,19,20,21,22,23,24,25,26,27,28,29,30,31,32,33,34,35,36,37,38,39,40,41,42,43,44,45,47,48,49,50,51,52,53,54,55,56,57,58) have mixed types.Specify dtype option on import or set low_memory=False.\n",
      "  exec(code_obj, self.user_global_ns, self.user_ns)\n"
     ]
    }
   ],
   "source": [
    "df17 = pd.read_csv(\"c2017.csv\")\n",
    "df18 = pd.read_csv(\"c2018.csv\")\n",
    "df19 = pd.read_csv(\"c2019.csv\")"
   ]
  }
 ],
 "metadata": {
  "kernelspec": {
   "display_name": "Python 3",
   "language": "python",
   "name": "python3"
  },
  "language_info": {
   "codemirror_mode": {
    "name": "ipython",
    "version": 3
   },
   "file_extension": ".py",
   "mimetype": "text/x-python",
   "name": "python",
   "nbconvert_exporter": "python",
   "pygments_lexer": "ipython3",
   "version": "3.9.6"
  }
 },
 "nbformat": 4,
 "nbformat_minor": 5
}
